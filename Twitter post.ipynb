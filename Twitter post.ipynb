{
 "cells": [
  {
   "cell_type": "code",
   "execution_count": 1,
   "metadata": {},
   "outputs": [],
   "source": [
    "import tweepy\n",
    "import re\n",
    "import pickle"
   ]
  },
  {
   "cell_type": "code",
   "execution_count": 2,
   "metadata": {},
   "outputs": [],
   "source": [
    "import pandas as pd"
   ]
  },
  {
   "cell_type": "code",
   "execution_count": 3,
   "metadata": {},
   "outputs": [],
   "source": [
    "from tweepy import OAuthHandler"
   ]
  },
  {
   "cell_type": "code",
   "execution_count": 1,
   "metadata": {},
   "outputs": [],
   "source": [
    "#python -m pip install lxml"
   ]
  },
  {
   "cell_type": "code",
   "execution_count": 4,
   "metadata": {},
   "outputs": [],
   "source": [
    "# OAuthHandler will do the job of authenticating our ml with consumer keys and etc."
   ]
  },
  {
   "cell_type": "markdown",
   "metadata": {},
   "source": [
    "# Initializing the Keys"
   ]
  },
  {
   "cell_type": "code",
   "execution_count": 4,
   "metadata": {},
   "outputs": [],
   "source": [
    "consumer_key = #(your consumer key)\n",
    "consumer_secret = (#your secret consumer key)\n",
    "access_token = #(your access token)\n",
    "access_secret = #(your secret acess token)"
   ]
  },
  {
   "cell_type": "code",
   "execution_count": 9,
   "metadata": {},
   "outputs": [],
   "source": [
    "auth = OAuthHandler(consumer_key,consumer_secret) #authenticating our application\n",
    "auth.set_access_token(access_token,access_secret) #to check whether I have generated the rights to fetch tweets"
   ]
  },
  {
   "cell_type": "code",
   "execution_count": 10,
   "metadata": {},
   "outputs": [],
   "source": [
    "args = ['Facebook']\n",
    "api = tweepy.API(auth,timeout=10)"
   ]
  },
  {
   "cell_type": "code",
   "execution_count": 7,
   "metadata": {},
   "outputs": [],
   "source": [
    "list_tweets = []\n",
    "querry = args[0]\n"
   ]
  },
  {
   "cell_type": "code",
   "execution_count": null,
   "metadata": {},
   "outputs": [],
   "source": [
    "#cursor is used to fetch tweets\n",
    "#api.search is written as we want to search, we can do other things using this api like make a tweet\n",
    "# \" -filter:retweets\" is used so that retweeted data is not recieved"
   ]
  },
  {
   "cell_type": "code",
   "execution_count": 17,
   "metadata": {},
   "outputs": [],
   "source": [
    "if len(args) == 1:\n",
    "    for status in tweepy.Cursor(api.search, q=querry +\" -filter:retweets\",lang=\"en\",result_type=\"recent\").items(100):\n",
    "        list_tweets.append(status.text)"
   ]
  },
  {
   "cell_type": "code",
   "execution_count": 18,
   "metadata": {},
   "outputs": [
    {
     "data": {
      "text/plain": [
       "['Emuna is our Future with Back to Basics! Join us for #EmunaTime 2pm Isreal - on https://t.co/AETlGGWbjN After such… https://t.co/uJ2yo9ICJS',\n",
       " 'A new month brings newness.\\nA chance to start afresh.\\n\\nHappy New Month to all our students, and the entire KNUST co… https://t.co/Faeh19rsXf',\n",
       " 'On Tuesday evening from 6:30 PM I host one of the youngest coach in the KPL, @anthonykimani01. Share your questions… https://t.co/oAHDvIWr4Y',\n",
       " \"Happy Monday, fellow book dragons! Tonight at 8:30pm GMT I'll be doing a Facebook Live video as part of an online a… https://t.co/thhUYuvYP8\",\n",
       " 'Is it only on Facebook though?',\n",
       " 'Please like this page on Facebook and follow on insta @frankolivefarms For your seedlings and veggie needs💕 https://t.co/4lpRgu0pbi',\n",
       " 'Corby facebook page is just full of racists or swans trying to break into cars',\n",
       " '#RememberedHere #OnThisDay\\nWilliam Colwill\\nKilled in #France 1 June 1917\\nAged 38\\n\\n#NottinghamRoadCemetery #Derby… https://t.co/st0VamRzV3',\n",
       " 'I must of seen a post on Facebook and y’all really out here swagger jacking. Like damn can i get my commison on you… https://t.co/GbTy9OtlCy',\n",
       " 'I need everybody in the world that believes in the power of prayer to please stop what you’re doing, take a minute,… https://t.co/y3Imhyx4oM',\n",
       " '@JaneBeausoleil @LilaGraceRose @Facebook @LiveAction @Pinterest @Twitter @YouTube They’ll never do it. Those things… https://t.co/enaRfxAkbb',\n",
       " '@Govrnmentjudas I know he has AIDS and has a madonna fanpage on Facebook',\n",
       " 'Good bye twitter, good bye Facebook, good bye instagram, this is the last time',\n",
       " 'Love all the people on Facebook saying \"where are the riots for Justine Damond\" (the Australian woman murdered by a… https://t.co/ndQGm0TnuD',\n",
       " '@JoeBiden This is powerful Joe. A start to stopping Trumps rot.\\n\\nhttps://t.co/gfV8Mfy90F',\n",
       " 'When u see someone’s facebook shared post contradicting their “women empowerment” / “anti-body shaming” tweet 🤡 \\n\\n🔊… https://t.co/AOkiVOfROw',\n",
       " 'Yes training is important, for your dogs safety and others, but don’t forget to enjoy your dog for who they are as… https://t.co/LeVlMRQb8z',\n",
       " '@TechGeekAus @theprojecttv Fake Facebook meme',\n",
       " \"Don't forget we are going LIVE today on our Facebook page at 11am with SVP National President, @HelenOShea199 as we… https://t.co/4lWddaKdo8\",\n",
       " \"Political prisoner Saleh Rustamov's son Sezgin Rustamov wrote on his Facebook post ; \\nWe talked to my father, Saleh… https://t.co/RqXEq0BjwX\",\n",
       " 'An aspiring lawyer has won £15,000 in damages after suing her uncle for posting a comment on Facebook revealing pri… https://t.co/GrecDpZMiE',\n",
       " 'A new month brings newness.\\nA chance to start afresh.\\n\\nHappy New Month to all our students, and the entire KNUST co… https://t.co/gLta6JXyjw',\n",
       " 'Thank you Jozo. For that unforgettable goal by the No. 5 in the magical 67th minute to honour our Caesar. All the b… https://t.co/TsYSq0cOvf',\n",
       " 'Our next event, coming this Thursday at 7pm BST. Come join us!\\nFor more info: \\nhttps://t.co/CjTytDub9u… https://t.co/wmcJzBtPc4',\n",
       " 'Goodbye facebook, twitter will be next',\n",
       " 'lmao facebook blocked my account smh',\n",
       " \"Facebook threw up this memory from seven years ago. It's become a bit of a classic in Friendy Towers. My son made a… https://t.co/Tj6jRPdNCS\",\n",
       " 'We are our biggest enemies.\\n\\nCredit: https://t.co/AK026EIJ4I https://t.co/1s4GrcAAh2',\n",
       " '#Quetta  after the brutal killing of #Bilal  few days ago, Today, the HATEMONGERS &amp; Supporters have beaten this… https://t.co/J0is4y48T7',\n",
       " 'A page where all these posts go WITHOUT CREDIT, straight puts the posts from here to facebook, not crediting the ar… https://t.co/LQDo1HqYVK',\n",
       " '💚 Good Morning Everyone! Day 1- are we ready? Here is the link outlining today’s challenge that the Young Witness S… https://t.co/SqSh1HMdWm',\n",
       " '@my2cnz @viktawreeuh Then this guy is good too. He switched to instagram though. But he goes live on facebook. https://t.co/oAWRKO4Dhn',\n",
       " 'Is @Facebook hitting a new low? Now not only posts are not chronological, now even the notifications are messed up.… https://t.co/Y5Gsd91aKz',\n",
       " 'Have you always been scared to speak in public?\\nDo you see yourself becoming a renowned speaker yet you freeze ever… https://t.co/HwgaGFOq3k',\n",
       " 'Greetings Pusong Canossian!\\n\\nPlease join us in celebrating the milestones of our Grade School pupils via LIVESTREAM… https://t.co/0m3A6BXxWg',\n",
       " 'its so fucking frustrating to post on facebook when literally no one cares about your platform, no one cares fo sig… https://t.co/uu2RFi7IJv',\n",
       " 'An ex took to Twitter and Facebook today to say people should thank brands when they post protest messages. And she… https://t.co/Cotn6l0zX9',\n",
       " 'And people on my facebook that live in az say they getting shot at and shit 🤦\\u200d♀️',\n",
       " 'The #CCP propaganda is beyond logic. They blame the @CIA for initiating &amp; infiltrating #HK to start the protest. No… https://t.co/8iwZxMslzQ',\n",
       " 'Read the Facebook comment in the tweet. https://t.co/qqmUAr47nU',\n",
       " 'Join our website..  https://t.co/DxOoH3b5IU',\n",
       " 'Facebook message. It’s hard to believe that this happened between 13-14 years ago. And the one thing about coming o… https://t.co/f8jboUmkLp',\n",
       " '@ShashankSArora Musing over chai, Ssmosa, Dhokla with global leaders making friends via facebook, twitter ...foreig… https://t.co/tvoyuhWZ4h',\n",
       " \"@thehill That why hubby and I deleted Facebook couldn't stand the bullying\",\n",
       " '@tbs_news one of the only news agencies, from japan, w/ very few livestreamers on the ground at the center of… https://t.co/xv67Afs5AF',\n",
       " 'This thread is copied &amp; pasted from a Facebook post written by Curtis Ryan, a terrorism expert. https://t.co/ZXJxAr9l5o',\n",
       " 'Today’s Facebook memories are all from the ABoD June rally last year.\\n\\nThink it’s only really hitting home now that… https://t.co/YJsk5wNqSr',\n",
       " 'FUCK FACEBOOK BE GETTING ME MAD',\n",
       " 'Ilang minutes nalang! Tune in guys!\\nhttps://t.co/tLY6p9Jqa9\\n\\nVOTE SUMMERxFIEND\\n#MYXPhLiveWithJaDine',\n",
       " 'LIVE Shortly 📡: Cabinet briefing by Union Ministers @PrakashJavdekar, @nitin_gadkari and @nstomar \\n\\n📍: National Med… https://t.co/shFxyCviP9',\n",
       " \"It's Monday, so time for our Monday Book Review. Today Ian is talking about Doxology by Nell Zink:… https://t.co/Ujh3qFVbgn\",\n",
       " 'Mass is now streaming Live  https://t.co/RMHe4nGLMA',\n",
       " '@jasontoff You started at Facebook in July 2019? \\n\\nFB was an irredeemable cancer on society well before your time.… https://t.co/yeYRSofUuE',\n",
       " '#IdeasPark\\nLooking for any IT services?\\n#WebDevelopment  #WebDesign  #Ecommerce   #SocialMediaMarketing #MobileApp… https://t.co/OfQhrkuQnE',\n",
       " \"My Dad just signed off his Facebook status with his name. This is peak Dad Social Media™️ and it's SO cute.\",\n",
       " 'https://t.co/hFV8XLz6uK\\nFollow me on Facebook!\\n#plants #supportsmallbusiness #nursery #usa #cactus #desertroses… https://t.co/6fiViLJuky',\n",
       " 'Dear Students!\\nThis is a reminder that Episode 2 of our Live Program \"Future Proof\" on the topic of \" Stress Manage… https://t.co/2j2TJmS3jP',\n",
       " \"Thanks for following -  \\nPlease also like our Facebook instagram &amp; youtube channels because - 'Prudhoe matters'… https://t.co/N4E0FDBO8e\",\n",
       " 'Facebook is an utterly corrupt propaganda organization that serves only the corporate ruling class. https://t.co/kHTCp97AM3',\n",
       " 'The fascist in the White House has repeatedly incited violence against journalists. \\n\\nThis week the police have sho… https://t.co/ZzfTqxTHU6',\n",
       " '@hijakamran @Facebook @Twitter @Google You only had the mirage of privacy, have you forgot what ex-surveillance whi… https://t.co/Bdat8Yd0od',\n",
       " '@T_H_E_SMILES @chyjex_chyzzy @zeke_4 @chinemekalu_ Lol Instagram and Facebook stories you say??? Lol ok',\n",
       " '@EstibalizTerron We only put our first menu out on Instagram so we wouldn’t be overwhelmed. Goodness the scolding I… https://t.co/1h2rsBfLUz',\n",
       " 'If you would like to order please like Gab’s Corner on facebook! ☺️ Thank you so much!! https://t.co/6jvaBHqRYi',\n",
       " 'Society members\\nList your 3 favourite things we offer as a society. Is it our Knowledge, our Journal, Newsletter, T… https://t.co/Uwy400PMm7',\n",
       " 'Hypnos is always getting into Facebook arguments or making beef casseroles.',\n",
       " 'hold up i’m screen recording every single video preparing to send them all to racist white people on facebook',\n",
       " '@PplOverPolitics the slightest sundering of repertoire is smited out with hasty expurgation. Eluding Facebook… https://t.co/5zCAw3nUME',\n",
       " \"Source: https://t.co/LXEbhTMAHD \\n\\nTo follow stuff on Korean's VALORANT, you need to check for the official facebook… https://t.co/uHPNJ5iIiO\",\n",
       " '@DntlMelaka Remember to 👍 FOLLOW @MelakaeXcess! 🙆\\u200d♂️🙆\\u200d♀️\\u200b\\nFree Credits💰 + Explosive Discounts🛍 + Double Rewards🎏 +… https://t.co/sfw2r3brPg',\n",
       " '@tomcoates now estimate how much more facebook saved per the Trump-GOP tax plan  (our amazing companies —like Panta… https://t.co/Vrk5qli3GG',\n",
       " '@jasontoff Facebook sucks. As soon as there is a viable alternative, punting. Hard pass with racist coward, Zuck, a… https://t.co/fMkNOEn0NP',\n",
       " '@Facebook ? Anyone there?',\n",
       " '@jasontoff Facebook is just joyously embracing rising fascism with Zuckerberg. So many in the future will just say, \"I was doing my job\"',\n",
       " '@chrollochan most adults get their info from stupid facebook news they have nothing to argue you about it..',\n",
       " 'Facebook Algorithms Promote Extremists &amp; Make You Addicted to Social Media: Report - https://t.co/oLwHG3KolE #Pakistan',\n",
       " '@jasontoff Want to fix Facebook? Fix your groups. Attach them to people’s profile likes a la books, movies, music,… https://t.co/IzTUP9RyZa',\n",
       " '@iDeepdown @fotoqueen24 They found her Facebook (which I guess she deleted) and her address/phone number lmfao. Usu… https://t.co/UbJKVjUWEV',\n",
       " '@FIONNAxFAPPLE Oh yeah, I saw simillar Galaxy brain on one of the fanpages on Polish Facebook. Nothing will surpris… https://t.co/6f84MAHHcE',\n",
       " '@DntlMelaka Remember to 👍 FOLLOW @MelakaeXcess! 🙆\\u200d♂️🙆\\u200d♀️\\u200b\\nFree Credits💰 + Explosive Discounts🛍 + Double Rewards🎏 +… https://t.co/8N6pYTYLZC',\n",
       " 'Some how this is entertaining to see cops just constantly build a case against them and keep doing the same thing t… https://t.co/MCnJxXBiFq',\n",
       " 'Every little helps, please share ❤️👍 https://t.co/63eR14D6ld',\n",
       " '@PresidencyZA\\n@MaxduPreez\\n@Our_DA\\n@OUTASA\\nThis cannot be R21b bail out! Surely not \\nhttps://t.co/qRPqEWqMiL',\n",
       " 'Brilliant read from @TheDrum taking a closer look at #Facebook and #Instagram Shops... https://t.co/qrR26vufrs… https://t.co/2FoWIPR8g2',\n",
       " 'https://t.co/64rxpmhpNZ migrants who came from bombay to kolkata are locked in public toilets...',\n",
       " '@Mister_Woodo Why are all of these Civil War groups on Facebook private? Hmmmm...',\n",
       " \"Trump and Facebook's Zuckerberg reportedly talked on the phone amid the president's spat with social media… https://t.co/gygY9bq51j\",\n",
       " 'Anchor joins Facebook and NHS trial to reduce #socialisolation during #lockdown https://t.co/scuM7ejLwQ… https://t.co/0IXIw3QeKv',\n",
       " 'Found this on Facebook... Definitely worth the read\\n#BlackLivesMatter #ICantBreathe #GeorgeFloyd https://t.co/T7G6ovZUSP',\n",
       " \"I'm republishing all the old Burke books and adding two new ones. I'm starting with a cover reveal for the new edit… https://t.co/gYSwftRo6z\",\n",
       " 'I stood up to my aunt on Facebook... Kind of proud of it.',\n",
       " 'Today we pray especially for the month ahead\\n\\nJoin us for Mass from St Mary’s Vicarage at 10am - live streamed here… https://t.co/lYLGGadlCi',\n",
       " '@Aze2Patrick @Sightsavers Hi Patrick, great question! Exactly the kind of discussion we’d love to generate in this… https://t.co/Qj7UVnTUqT',\n",
       " 'On 3rd June 2020, you\\'re reminded/invited to attend online conference, \"Building a Resilient Sisterhood: How… https://t.co/AKIMApYrkH',\n",
       " 'Leicester is having a Black Lives Matter protest on the 6th of June and everyone on Facebook is moaning about the v… https://t.co/dZ6aSATz08',\n",
       " '@Miss_vee_bee @schirriant thank you for this, i made sure to follow them on facebook and will try to stay updated w… https://t.co/9OSgh424Kr',\n",
       " '@The_CWA awarded the Diamond Dagger to @medwardsbooks for consistent great writing. Tonight I will be interviewing… https://t.co/yfCpLOPa6B',\n",
       " '@CBSNews And Facebook itself, which defines Palestinian freedom and prevents its voice from appearing to cover the crimes of the occupation!',\n",
       " 'Just saw someone on Facebook say they’re logging off until “all this blows over.” That is privilege - being able to ignore this!!',\n",
       " \"Morning Everyone ! 🙂\\n\\nAlan's Strength Supersets to start your week off right 💪 \\n\\nFor more workouts ,health and well… https://t.co/GA6azGh7F2\"]"
      ]
     },
     "execution_count": 18,
     "metadata": {},
     "output_type": "execute_result"
    }
   ],
   "source": [
    "list_tweets\n"
   ]
  },
  {
   "cell_type": "code",
   "execution_count": null,
   "metadata": {},
   "outputs": [],
   "source": [
    "#other method"
   ]
  },
  {
   "cell_type": "code",
   "execution_count": 16,
   "metadata": {},
   "outputs": [],
   "source": [
    "posts = api.user_timeline(screen_name=\"Manchester\", count = 100, lang=\"en\",tweet_mode=\"extended\")"
   ]
  },
  {
   "cell_type": "code",
   "execution_count": 145,
   "metadata": {},
   "outputs": [
    {
     "data": {
      "text/plain": [
       "'@MissDemeanor07 @Space_Station There a huge flying saucer in the top left. The truth is out there.'"
      ]
     },
     "execution_count": 145,
     "metadata": {},
     "output_type": "execute_result"
    }
   ],
   "source": [
    "posts[0].full_text"
   ]
  },
  {
   "cell_type": "code",
   "execution_count": 180,
   "metadata": {},
   "outputs": [],
   "source": [
    "new_posts = api.search(q=\"coronavirus\" + \" -filter:retweet\", count = 100, lang=\"en\",result_type=\"recent\")"
   ]
  },
  {
   "cell_type": "code",
   "execution_count": 181,
   "metadata": {},
   "outputs": [
    {
     "data": {
      "text/plain": [
       "\"RT @jayceebrownbook: Spanish health minister bans British holidaymakers 'until UK's coronavirus situation improves' https://t.co/IOawaInvyc\""
      ]
     },
     "execution_count": 181,
     "metadata": {},
     "output_type": "execute_result"
    }
   ],
   "source": [
    "new_posts[0].text"
   ]
  },
  {
   "cell_type": "code",
   "execution_count": 17,
   "metadata": {},
   "outputs": [],
   "source": [
    "df = pd.DataFrame([tweets.text for tweets in new_posts ], columns=['Tweets'])"
   ]
  },
  {
   "cell_type": "code",
   "execution_count": 183,
   "metadata": {},
   "outputs": [
    {
     "data": {
      "text/html": [
       "<div>\n",
       "<style scoped>\n",
       "    .dataframe tbody tr th:only-of-type {\n",
       "        vertical-align: middle;\n",
       "    }\n",
       "\n",
       "    .dataframe tbody tr th {\n",
       "        vertical-align: top;\n",
       "    }\n",
       "\n",
       "    .dataframe thead th {\n",
       "        text-align: right;\n",
       "    }\n",
       "</style>\n",
       "<table border=\"1\" class=\"dataframe\">\n",
       "  <thead>\n",
       "    <tr style=\"text-align: right;\">\n",
       "      <th></th>\n",
       "      <th>Tweets</th>\n",
       "    </tr>\n",
       "  </thead>\n",
       "  <tbody>\n",
       "    <tr>\n",
       "      <td>0</td>\n",
       "      <td>RT @jayceebrownbook: Spanish health minister b...</td>\n",
       "    </tr>\n",
       "    <tr>\n",
       "      <td>1</td>\n",
       "      <td>RT @STcom: 100-year-old Indonesian woman beats...</td>\n",
       "    </tr>\n",
       "    <tr>\n",
       "      <td>2</td>\n",
       "      <td>RT @SkyNews: Coronavirus: Business secretary d...</td>\n",
       "    </tr>\n",
       "    <tr>\n",
       "      <td>3</td>\n",
       "      <td>RT @Tejasvi_Surya: Coronavirus may be invisibl...</td>\n",
       "    </tr>\n",
       "    <tr>\n",
       "      <td>4</td>\n",
       "      <td>RT @surjitbhalla: India turns out to have one ...</td>\n",
       "    </tr>\n",
       "  </tbody>\n",
       "</table>\n",
       "</div>"
      ],
      "text/plain": [
       "                                              Tweets\n",
       "0  RT @jayceebrownbook: Spanish health minister b...\n",
       "1  RT @STcom: 100-year-old Indonesian woman beats...\n",
       "2  RT @SkyNews: Coronavirus: Business secretary d...\n",
       "3  RT @Tejasvi_Surya: Coronavirus may be invisibl...\n",
       "4  RT @surjitbhalla: India turns out to have one ..."
      ]
     },
     "execution_count": 183,
     "metadata": {},
     "output_type": "execute_result"
    }
   ],
   "source": [
    "df.head()"
   ]
  },
  {
   "cell_type": "code",
   "execution_count": 18,
   "metadata": {},
   "outputs": [
    {
     "data": {
      "text/plain": [
       "(100, 1)"
      ]
     },
     "execution_count": 18,
     "metadata": {},
     "output_type": "execute_result"
    }
   ],
   "source": [
    "df.shape"
   ]
  },
  {
   "cell_type": "code",
   "execution_count": 185,
   "metadata": {},
   "outputs": [],
   "source": [
    "def clean_tweets(tweet):\n",
    "    tweet = re.sub(r\"@[\\w]+\", \" \", tweet)\n",
    "    tweet = re.sub(r\"https?:\\/\\/\\S+\", \" \",tweet)\n",
    "    tweet = re.sub(r\"RT[\\s]+\", \" \", tweet)\n",
    "    tweet = tweet.lower()\n",
    "    tweet = re.sub(r\"\\W\", ' ',tweet)\n",
    "    tweet = re.sub(r\"\\d\", \" \",tweet)\n",
    "    tweet = re.sub(r\"\\s+[a-zA-z]\\s+\", \" \", tweet)\n",
    "    tweet = re.sub(r\"\\s+\", \" \", tweet)\n",
    "    return tweet"
   ]
  },
  {
   "cell_type": "code",
   "execution_count": 189,
   "metadata": {},
   "outputs": [],
   "source": [
    "df[\"Tweets\"] = df['Tweets'].apply(clean_tweets)"
   ]
  },
  {
   "cell_type": "code",
   "execution_count": null,
   "metadata": {},
   "outputs": [],
   "source": []
  },
  {
   "cell_type": "code",
   "execution_count": 190,
   "metadata": {},
   "outputs": [
    {
     "data": {
      "text/html": [
       "<div>\n",
       "<style scoped>\n",
       "    .dataframe tbody tr th:only-of-type {\n",
       "        vertical-align: middle;\n",
       "    }\n",
       "\n",
       "    .dataframe tbody tr th {\n",
       "        vertical-align: top;\n",
       "    }\n",
       "\n",
       "    .dataframe thead th {\n",
       "        text-align: right;\n",
       "    }\n",
       "</style>\n",
       "<table border=\"1\" class=\"dataframe\">\n",
       "  <thead>\n",
       "    <tr style=\"text-align: right;\">\n",
       "      <th></th>\n",
       "      <th>Tweets</th>\n",
       "    </tr>\n",
       "  </thead>\n",
       "  <tbody>\n",
       "    <tr>\n",
       "      <td>0</td>\n",
       "      <td>spanish health minister bans british holidaym...</td>\n",
       "    </tr>\n",
       "    <tr>\n",
       "      <td>1</td>\n",
       "      <td>year old indonesian woman beats coronavirus</td>\n",
       "    </tr>\n",
       "    <tr>\n",
       "      <td>2</td>\n",
       "      <td>coronavirus business secretary defends day qu...</td>\n",
       "    </tr>\n",
       "    <tr>\n",
       "      <td>3</td>\n",
       "      <td>coronavirus may be invisible but our healthca...</td>\n",
       "    </tr>\n",
       "    <tr>\n",
       "      <td>4</td>\n",
       "      <td>india turns out to have one of the largest st...</td>\n",
       "    </tr>\n",
       "  </tbody>\n",
       "</table>\n",
       "</div>"
      ],
      "text/plain": [
       "                                              Tweets\n",
       "0   spanish health minister bans british holidaym...\n",
       "1       year old indonesian woman beats coronavirus \n",
       "2   coronavirus business secretary defends day qu...\n",
       "3   coronavirus may be invisible but our healthca...\n",
       "4   india turns out to have one of the largest st..."
      ]
     },
     "execution_count": 190,
     "metadata": {},
     "output_type": "execute_result"
    }
   ],
   "source": [
    "df.head()"
   ]
  },
  {
   "cell_type": "code",
   "execution_count": 191,
   "metadata": {},
   "outputs": [
    {
     "data": {
      "text/html": [
       "<div>\n",
       "<style scoped>\n",
       "    .dataframe tbody tr th:only-of-type {\n",
       "        vertical-align: middle;\n",
       "    }\n",
       "\n",
       "    .dataframe tbody tr th {\n",
       "        vertical-align: top;\n",
       "    }\n",
       "\n",
       "    .dataframe thead th {\n",
       "        text-align: right;\n",
       "    }\n",
       "</style>\n",
       "<table border=\"1\" class=\"dataframe\">\n",
       "  <thead>\n",
       "    <tr style=\"text-align: right;\">\n",
       "      <th></th>\n",
       "      <th>Tweets</th>\n",
       "    </tr>\n",
       "  </thead>\n",
       "  <tbody>\n",
       "    <tr>\n",
       "      <td>0</td>\n",
       "      <td>spanish health minister bans british holidaym...</td>\n",
       "    </tr>\n",
       "    <tr>\n",
       "      <td>1</td>\n",
       "      <td>year old indonesian woman beats coronavirus</td>\n",
       "    </tr>\n",
       "    <tr>\n",
       "      <td>2</td>\n",
       "      <td>coronavirus business secretary defends day qu...</td>\n",
       "    </tr>\n",
       "    <tr>\n",
       "      <td>3</td>\n",
       "      <td>coronavirus may be invisible but our healthca...</td>\n",
       "    </tr>\n",
       "    <tr>\n",
       "      <td>4</td>\n",
       "      <td>india turns out to have one of the largest st...</td>\n",
       "    </tr>\n",
       "    <tr>\n",
       "      <td>...</td>\n",
       "      <td>...</td>\n",
       "    </tr>\n",
       "    <tr>\n",
       "      <td>95</td>\n",
       "      <td>daily briefing so we go into june with that b...</td>\n",
       "    </tr>\n",
       "    <tr>\n",
       "      <td>96</td>\n",
       "      <td>smriti irani missing posters come up in ameth...</td>\n",
       "    </tr>\n",
       "    <tr>\n",
       "      <td>97</td>\n",
       "      <td>community transmission of coronavirus infectio...</td>\n",
       "    </tr>\n",
       "    <tr>\n",
       "      <td>98</td>\n",
       "      <td>don let get away with murder spain new corona...</td>\n",
       "    </tr>\n",
       "    <tr>\n",
       "      <td>99</td>\n",
       "      <td>the spanish flu the global impact of the larg...</td>\n",
       "    </tr>\n",
       "  </tbody>\n",
       "</table>\n",
       "<p>100 rows × 1 columns</p>\n",
       "</div>"
      ],
      "text/plain": [
       "                                               Tweets\n",
       "0    spanish health minister bans british holidaym...\n",
       "1        year old indonesian woman beats coronavirus \n",
       "2    coronavirus business secretary defends day qu...\n",
       "3    coronavirus may be invisible but our healthca...\n",
       "4    india turns out to have one of the largest st...\n",
       "..                                                ...\n",
       "95   daily briefing so we go into june with that b...\n",
       "96   smriti irani missing posters come up in ameth...\n",
       "97  community transmission of coronavirus infectio...\n",
       "98   don let get away with murder spain new corona...\n",
       "99   the spanish flu the global impact of the larg...\n",
       "\n",
       "[100 rows x 1 columns]"
      ]
     },
     "execution_count": 191,
     "metadata": {},
     "output_type": "execute_result"
    }
   ],
   "source": [
    " df"
   ]
  },
  {
   "cell_type": "code",
   "execution_count": 192,
   "metadata": {},
   "outputs": [],
   "source": [
    "#m creating function to get subjectivity and polarity"
   ]
  },
  {
   "cell_type": "code",
   "execution_count": 193,
   "metadata": {},
   "outputs": [],
   "source": [
    "from textblob import TextBlob"
   ]
  },
  {
   "cell_type": "code",
   "execution_count": 194,
   "metadata": {},
   "outputs": [],
   "source": [
    "def get_subjectivity(text):\n",
    "    return TextBlob(text).sentiment.subjectivity\n",
    "\n",
    "def get_polarity(text):\n",
    "    return TextBlob(text).sentiment.polarity"
   ]
  },
  {
   "cell_type": "code",
   "execution_count": 195,
   "metadata": {},
   "outputs": [],
   "source": [
    "df['Subjectivity'] = df['Tweets'].apply(get_subjectivity)\n",
    "df['Polarity'] = df[\"Tweets\"].apply(get_polarity)"
   ]
  },
  {
   "cell_type": "code",
   "execution_count": 196,
   "metadata": {},
   "outputs": [
    {
     "data": {
      "text/html": [
       "<div>\n",
       "<style scoped>\n",
       "    .dataframe tbody tr th:only-of-type {\n",
       "        vertical-align: middle;\n",
       "    }\n",
       "\n",
       "    .dataframe tbody tr th {\n",
       "        vertical-align: top;\n",
       "    }\n",
       "\n",
       "    .dataframe thead th {\n",
       "        text-align: right;\n",
       "    }\n",
       "</style>\n",
       "<table border=\"1\" class=\"dataframe\">\n",
       "  <thead>\n",
       "    <tr style=\"text-align: right;\">\n",
       "      <th></th>\n",
       "      <th>Tweets</th>\n",
       "      <th>Subjectivity</th>\n",
       "      <th>Polarity</th>\n",
       "    </tr>\n",
       "  </thead>\n",
       "  <tbody>\n",
       "    <tr>\n",
       "      <td>0</td>\n",
       "      <td>spanish health minister bans british holidaym...</td>\n",
       "      <td>0.000000</td>\n",
       "      <td>0.000000</td>\n",
       "    </tr>\n",
       "    <tr>\n",
       "      <td>1</td>\n",
       "      <td>year old indonesian woman beats coronavirus</td>\n",
       "      <td>0.200000</td>\n",
       "      <td>0.100000</td>\n",
       "    </tr>\n",
       "    <tr>\n",
       "      <td>2</td>\n",
       "      <td>coronavirus business secretary defends day qu...</td>\n",
       "      <td>0.000000</td>\n",
       "      <td>0.000000</td>\n",
       "    </tr>\n",
       "    <tr>\n",
       "      <td>3</td>\n",
       "      <td>coronavirus may be invisible but our healthca...</td>\n",
       "      <td>0.000000</td>\n",
       "      <td>0.000000</td>\n",
       "    </tr>\n",
       "    <tr>\n",
       "      <td>4</td>\n",
       "      <td>india turns out to have one of the largest st...</td>\n",
       "      <td>0.000000</td>\n",
       "      <td>0.000000</td>\n",
       "    </tr>\n",
       "    <tr>\n",
       "      <td>5</td>\n",
       "      <td>how one lie too many stripped the uk governme...</td>\n",
       "      <td>0.283333</td>\n",
       "      <td>0.250000</td>\n",
       "    </tr>\n",
       "    <tr>\n",
       "      <td>6</td>\n",
       "      <td>further blacklivesmatteruk protests scheduled...</td>\n",
       "      <td>0.500000</td>\n",
       "      <td>0.000000</td>\n",
       "    </tr>\n",
       "    <tr>\n",
       "      <td>7</td>\n",
       "      <td>the kremlin wish list is on the verge of bein...</td>\n",
       "      <td>0.600000</td>\n",
       "      <td>0.600000</td>\n",
       "    </tr>\n",
       "    <tr>\n",
       "      <td>8</td>\n",
       "      <td>the new coronavirus is losing its potency and...</td>\n",
       "      <td>0.173737</td>\n",
       "      <td>-0.010101</td>\n",
       "    </tr>\n",
       "    <tr>\n",
       "      <td>9</td>\n",
       "      <td>coronavirus pandemic brings new use cases for ...</td>\n",
       "      <td>0.454545</td>\n",
       "      <td>0.136364</td>\n",
       "    </tr>\n",
       "  </tbody>\n",
       "</table>\n",
       "</div>"
      ],
      "text/plain": [
       "                                              Tweets  Subjectivity  Polarity\n",
       "0   spanish health minister bans british holidaym...      0.000000  0.000000\n",
       "1       year old indonesian woman beats coronavirus       0.200000  0.100000\n",
       "2   coronavirus business secretary defends day qu...      0.000000  0.000000\n",
       "3   coronavirus may be invisible but our healthca...      0.000000  0.000000\n",
       "4   india turns out to have one of the largest st...      0.000000  0.000000\n",
       "5   how one lie too many stripped the uk governme...      0.283333  0.250000\n",
       "6   further blacklivesmatteruk protests scheduled...      0.500000  0.000000\n",
       "7   the kremlin wish list is on the verge of bein...      0.600000  0.600000\n",
       "8   the new coronavirus is losing its potency and...      0.173737 -0.010101\n",
       "9  coronavirus pandemic brings new use cases for ...      0.454545  0.136364"
      ]
     },
     "execution_count": 196,
     "metadata": {},
     "output_type": "execute_result"
    }
   ],
   "source": [
    "df.head(10)"
   ]
  },
  {
   "cell_type": "code",
   "execution_count": 197,
   "metadata": {},
   "outputs": [],
   "source": [
    "def value_based(num):\n",
    "    if num < 0:\n",
    "        return \"Negative\"\n",
    "    elif num > 0:\n",
    "        return \"Positive\"\n",
    "    else:\n",
    "        return \"Neutral\""
   ]
  },
  {
   "cell_type": "code",
   "execution_count": 198,
   "metadata": {},
   "outputs": [],
   "source": [
    "df['Sentiment'] = df['Polarity'].apply(value_based)"
   ]
  },
  {
   "cell_type": "code",
   "execution_count": 199,
   "metadata": {},
   "outputs": [
    {
     "data": {
      "text/html": [
       "<div>\n",
       "<style scoped>\n",
       "    .dataframe tbody tr th:only-of-type {\n",
       "        vertical-align: middle;\n",
       "    }\n",
       "\n",
       "    .dataframe tbody tr th {\n",
       "        vertical-align: top;\n",
       "    }\n",
       "\n",
       "    .dataframe thead th {\n",
       "        text-align: right;\n",
       "    }\n",
       "</style>\n",
       "<table border=\"1\" class=\"dataframe\">\n",
       "  <thead>\n",
       "    <tr style=\"text-align: right;\">\n",
       "      <th></th>\n",
       "      <th>Tweets</th>\n",
       "      <th>Subjectivity</th>\n",
       "      <th>Polarity</th>\n",
       "      <th>Sentiment</th>\n",
       "    </tr>\n",
       "  </thead>\n",
       "  <tbody>\n",
       "    <tr>\n",
       "      <td>0</td>\n",
       "      <td>spanish health minister bans british holidaym...</td>\n",
       "      <td>0.000000</td>\n",
       "      <td>0.000000</td>\n",
       "      <td>Neutral</td>\n",
       "    </tr>\n",
       "    <tr>\n",
       "      <td>1</td>\n",
       "      <td>year old indonesian woman beats coronavirus</td>\n",
       "      <td>0.200000</td>\n",
       "      <td>0.100000</td>\n",
       "      <td>Positive</td>\n",
       "    </tr>\n",
       "    <tr>\n",
       "      <td>2</td>\n",
       "      <td>coronavirus business secretary defends day qu...</td>\n",
       "      <td>0.000000</td>\n",
       "      <td>0.000000</td>\n",
       "      <td>Neutral</td>\n",
       "    </tr>\n",
       "    <tr>\n",
       "      <td>3</td>\n",
       "      <td>coronavirus may be invisible but our healthca...</td>\n",
       "      <td>0.000000</td>\n",
       "      <td>0.000000</td>\n",
       "      <td>Neutral</td>\n",
       "    </tr>\n",
       "    <tr>\n",
       "      <td>4</td>\n",
       "      <td>india turns out to have one of the largest st...</td>\n",
       "      <td>0.000000</td>\n",
       "      <td>0.000000</td>\n",
       "      <td>Neutral</td>\n",
       "    </tr>\n",
       "    <tr>\n",
       "      <td>5</td>\n",
       "      <td>how one lie too many stripped the uk governme...</td>\n",
       "      <td>0.283333</td>\n",
       "      <td>0.250000</td>\n",
       "      <td>Positive</td>\n",
       "    </tr>\n",
       "    <tr>\n",
       "      <td>6</td>\n",
       "      <td>further blacklivesmatteruk protests scheduled...</td>\n",
       "      <td>0.500000</td>\n",
       "      <td>0.000000</td>\n",
       "      <td>Neutral</td>\n",
       "    </tr>\n",
       "    <tr>\n",
       "      <td>7</td>\n",
       "      <td>the kremlin wish list is on the verge of bein...</td>\n",
       "      <td>0.600000</td>\n",
       "      <td>0.600000</td>\n",
       "      <td>Positive</td>\n",
       "    </tr>\n",
       "    <tr>\n",
       "      <td>8</td>\n",
       "      <td>the new coronavirus is losing its potency and...</td>\n",
       "      <td>0.173737</td>\n",
       "      <td>-0.010101</td>\n",
       "      <td>Negative</td>\n",
       "    </tr>\n",
       "    <tr>\n",
       "      <td>9</td>\n",
       "      <td>coronavirus pandemic brings new use cases for ...</td>\n",
       "      <td>0.454545</td>\n",
       "      <td>0.136364</td>\n",
       "      <td>Positive</td>\n",
       "    </tr>\n",
       "  </tbody>\n",
       "</table>\n",
       "</div>"
      ],
      "text/plain": [
       "                                              Tweets  Subjectivity  Polarity  \\\n",
       "0   spanish health minister bans british holidaym...      0.000000  0.000000   \n",
       "1       year old indonesian woman beats coronavirus       0.200000  0.100000   \n",
       "2   coronavirus business secretary defends day qu...      0.000000  0.000000   \n",
       "3   coronavirus may be invisible but our healthca...      0.000000  0.000000   \n",
       "4   india turns out to have one of the largest st...      0.000000  0.000000   \n",
       "5   how one lie too many stripped the uk governme...      0.283333  0.250000   \n",
       "6   further blacklivesmatteruk protests scheduled...      0.500000  0.000000   \n",
       "7   the kremlin wish list is on the verge of bein...      0.600000  0.600000   \n",
       "8   the new coronavirus is losing its potency and...      0.173737 -0.010101   \n",
       "9  coronavirus pandemic brings new use cases for ...      0.454545  0.136364   \n",
       "\n",
       "  Sentiment  \n",
       "0   Neutral  \n",
       "1  Positive  \n",
       "2   Neutral  \n",
       "3   Neutral  \n",
       "4   Neutral  \n",
       "5  Positive  \n",
       "6   Neutral  \n",
       "7  Positive  \n",
       "8  Negative  \n",
       "9  Positive  "
      ]
     },
     "execution_count": 199,
     "metadata": {},
     "output_type": "execute_result"
    }
   ],
   "source": [
    "df.head(10)"
   ]
  },
  {
   "cell_type": "code",
   "execution_count": 200,
   "metadata": {},
   "outputs": [
    {
     "data": {
      "text/plain": [
       "' year old indonesian woman beats coronavirus '"
      ]
     },
     "execution_count": 200,
     "metadata": {},
     "output_type": "execute_result"
    }
   ],
   "source": [
    "df[\"Tweets\"].loc[1]"
   ]
  },
  {
   "cell_type": "code",
   "execution_count": 137,
   "metadata": {},
   "outputs": [],
   "source": [
    "# predicting the positive and negative using our pickle classifier"
   ]
  },
  {
   "cell_type": "code",
   "execution_count": 201,
   "metadata": {},
   "outputs": [],
   "source": [
    "with open(\"lm.pickle\",\"rb\") as f:\n",
    "    clf = pickle.load(f)\n",
    "    \n",
    "with open('bw_trans.pickle',\"rb\") as f:\n",
    "    vect = pickle.load(f)"
   ]
  },
  {
   "cell_type": "code",
   "execution_count": 202,
   "metadata": {},
   "outputs": [],
   "source": [
    "sent = clf.predict(vect.transform(df['Tweets']).toarray())"
   ]
  },
  {
   "cell_type": "code",
   "execution_count": 203,
   "metadata": {},
   "outputs": [],
   "source": [
    "df[\"Sent\"] = sent"
   ]
  },
  {
   "cell_type": "code",
   "execution_count": 204,
   "metadata": {},
   "outputs": [
    {
     "data": {
      "text/html": [
       "<div>\n",
       "<style scoped>\n",
       "    .dataframe tbody tr th:only-of-type {\n",
       "        vertical-align: middle;\n",
       "    }\n",
       "\n",
       "    .dataframe tbody tr th {\n",
       "        vertical-align: top;\n",
       "    }\n",
       "\n",
       "    .dataframe thead th {\n",
       "        text-align: right;\n",
       "    }\n",
       "</style>\n",
       "<table border=\"1\" class=\"dataframe\">\n",
       "  <thead>\n",
       "    <tr style=\"text-align: right;\">\n",
       "      <th></th>\n",
       "      <th>Tweets</th>\n",
       "      <th>Subjectivity</th>\n",
       "      <th>Polarity</th>\n",
       "      <th>Sentiment</th>\n",
       "      <th>Sent</th>\n",
       "    </tr>\n",
       "  </thead>\n",
       "  <tbody>\n",
       "    <tr>\n",
       "      <td>0</td>\n",
       "      <td>spanish health minister bans british holidaym...</td>\n",
       "      <td>0.000000</td>\n",
       "      <td>0.000000</td>\n",
       "      <td>Neutral</td>\n",
       "      <td>1</td>\n",
       "    </tr>\n",
       "    <tr>\n",
       "      <td>1</td>\n",
       "      <td>year old indonesian woman beats coronavirus</td>\n",
       "      <td>0.200000</td>\n",
       "      <td>0.100000</td>\n",
       "      <td>Positive</td>\n",
       "      <td>0</td>\n",
       "    </tr>\n",
       "    <tr>\n",
       "      <td>2</td>\n",
       "      <td>coronavirus business secretary defends day qu...</td>\n",
       "      <td>0.000000</td>\n",
       "      <td>0.000000</td>\n",
       "      <td>Neutral</td>\n",
       "      <td>1</td>\n",
       "    </tr>\n",
       "    <tr>\n",
       "      <td>3</td>\n",
       "      <td>coronavirus may be invisible but our healthca...</td>\n",
       "      <td>0.000000</td>\n",
       "      <td>0.000000</td>\n",
       "      <td>Neutral</td>\n",
       "      <td>1</td>\n",
       "    </tr>\n",
       "    <tr>\n",
       "      <td>4</td>\n",
       "      <td>india turns out to have one of the largest st...</td>\n",
       "      <td>0.000000</td>\n",
       "      <td>0.000000</td>\n",
       "      <td>Neutral</td>\n",
       "      <td>1</td>\n",
       "    </tr>\n",
       "    <tr>\n",
       "      <td>5</td>\n",
       "      <td>how one lie too many stripped the uk governme...</td>\n",
       "      <td>0.283333</td>\n",
       "      <td>0.250000</td>\n",
       "      <td>Positive</td>\n",
       "      <td>1</td>\n",
       "    </tr>\n",
       "    <tr>\n",
       "      <td>6</td>\n",
       "      <td>further blacklivesmatteruk protests scheduled...</td>\n",
       "      <td>0.500000</td>\n",
       "      <td>0.000000</td>\n",
       "      <td>Neutral</td>\n",
       "      <td>1</td>\n",
       "    </tr>\n",
       "    <tr>\n",
       "      <td>7</td>\n",
       "      <td>the kremlin wish list is on the verge of bein...</td>\n",
       "      <td>0.600000</td>\n",
       "      <td>0.600000</td>\n",
       "      <td>Positive</td>\n",
       "      <td>1</td>\n",
       "    </tr>\n",
       "    <tr>\n",
       "      <td>8</td>\n",
       "      <td>the new coronavirus is losing its potency and...</td>\n",
       "      <td>0.173737</td>\n",
       "      <td>-0.010101</td>\n",
       "      <td>Negative</td>\n",
       "      <td>1</td>\n",
       "    </tr>\n",
       "    <tr>\n",
       "      <td>9</td>\n",
       "      <td>coronavirus pandemic brings new use cases for ...</td>\n",
       "      <td>0.454545</td>\n",
       "      <td>0.136364</td>\n",
       "      <td>Positive</td>\n",
       "      <td>1</td>\n",
       "    </tr>\n",
       "    <tr>\n",
       "      <td>10</td>\n",
       "      <td>add to the list murder hornets cannibal rats ...</td>\n",
       "      <td>0.000000</td>\n",
       "      <td>0.000000</td>\n",
       "      <td>Neutral</td>\n",
       "      <td>0</td>\n",
       "    </tr>\n",
       "    <tr>\n",
       "      <td>11</td>\n",
       "      <td>we ve written to children amp families ministe...</td>\n",
       "      <td>0.000000</td>\n",
       "      <td>0.000000</td>\n",
       "      <td>Neutral</td>\n",
       "      <td>1</td>\n",
       "    </tr>\n",
       "    <tr>\n",
       "      <td>12</td>\n",
       "      <td>coronavirus deaths million selected countries ...</td>\n",
       "      <td>0.000000</td>\n",
       "      <td>0.000000</td>\n",
       "      <td>Neutral</td>\n",
       "      <td>1</td>\n",
       "    </tr>\n",
       "    <tr>\n",
       "      <td>13</td>\n",
       "      <td>has listed ethiopia as one of the underrated ...</td>\n",
       "      <td>0.000000</td>\n",
       "      <td>0.000000</td>\n",
       "      <td>Neutral</td>\n",
       "      <td>1</td>\n",
       "    </tr>\n",
       "    <tr>\n",
       "      <td>14</td>\n",
       "      <td>third is it related tools for healthier socie...</td>\n",
       "      <td>0.447222</td>\n",
       "      <td>0.150000</td>\n",
       "      <td>Positive</td>\n",
       "      <td>1</td>\n",
       "    </tr>\n",
       "    <tr>\n",
       "      <td>15</td>\n",
       "      <td>british police who ve put their own lives at ...</td>\n",
       "      <td>0.500000</td>\n",
       "      <td>0.300000</td>\n",
       "      <td>Positive</td>\n",
       "      <td>1</td>\n",
       "    </tr>\n",
       "    <tr>\n",
       "      <td>16</td>\n",
       "      <td>today marks the start of volunteersweek we re...</td>\n",
       "      <td>0.500000</td>\n",
       "      <td>0.000000</td>\n",
       "      <td>Neutral</td>\n",
       "      <td>1</td>\n",
       "    </tr>\n",
       "    <tr>\n",
       "      <td>17</td>\n",
       "      <td>take look coronavirus scare covid india covid...</td>\n",
       "      <td>0.000000</td>\n",
       "      <td>0.000000</td>\n",
       "      <td>Neutral</td>\n",
       "      <td>0</td>\n",
       "    </tr>\n",
       "    <tr>\n",
       "      <td>18</td>\n",
       "      <td>million have lost their jobs are dead from co...</td>\n",
       "      <td>0.400000</td>\n",
       "      <td>-0.200000</td>\n",
       "      <td>Negative</td>\n",
       "      <td>0</td>\n",
       "    </tr>\n",
       "    <tr>\n",
       "      <td>19</td>\n",
       "      <td>learn about coronavirus amp emergency respons...</td>\n",
       "      <td>0.000000</td>\n",
       "      <td>0.000000</td>\n",
       "      <td>Neutral</td>\n",
       "      <td>1</td>\n",
       "    </tr>\n",
       "  </tbody>\n",
       "</table>\n",
       "</div>"
      ],
      "text/plain": [
       "                                               Tweets  Subjectivity  Polarity  \\\n",
       "0    spanish health minister bans british holidaym...      0.000000  0.000000   \n",
       "1        year old indonesian woman beats coronavirus       0.200000  0.100000   \n",
       "2    coronavirus business secretary defends day qu...      0.000000  0.000000   \n",
       "3    coronavirus may be invisible but our healthca...      0.000000  0.000000   \n",
       "4    india turns out to have one of the largest st...      0.000000  0.000000   \n",
       "5    how one lie too many stripped the uk governme...      0.283333  0.250000   \n",
       "6    further blacklivesmatteruk protests scheduled...      0.500000  0.000000   \n",
       "7    the kremlin wish list is on the verge of bein...      0.600000  0.600000   \n",
       "8    the new coronavirus is losing its potency and...      0.173737 -0.010101   \n",
       "9   coronavirus pandemic brings new use cases for ...      0.454545  0.136364   \n",
       "10   add to the list murder hornets cannibal rats ...      0.000000  0.000000   \n",
       "11  we ve written to children amp families ministe...      0.000000  0.000000   \n",
       "12  coronavirus deaths million selected countries ...      0.000000  0.000000   \n",
       "13   has listed ethiopia as one of the underrated ...      0.000000  0.000000   \n",
       "14   third is it related tools for healthier socie...      0.447222  0.150000   \n",
       "15   british police who ve put their own lives at ...      0.500000  0.300000   \n",
       "16   today marks the start of volunteersweek we re...      0.500000  0.000000   \n",
       "17   take look coronavirus scare covid india covid...      0.000000  0.000000   \n",
       "18   million have lost their jobs are dead from co...      0.400000 -0.200000   \n",
       "19   learn about coronavirus amp emergency respons...      0.000000  0.000000   \n",
       "\n",
       "   Sentiment  Sent  \n",
       "0    Neutral     1  \n",
       "1   Positive     0  \n",
       "2    Neutral     1  \n",
       "3    Neutral     1  \n",
       "4    Neutral     1  \n",
       "5   Positive     1  \n",
       "6    Neutral     1  \n",
       "7   Positive     1  \n",
       "8   Negative     1  \n",
       "9   Positive     1  \n",
       "10   Neutral     0  \n",
       "11   Neutral     1  \n",
       "12   Neutral     1  \n",
       "13   Neutral     1  \n",
       "14  Positive     1  \n",
       "15  Positive     1  \n",
       "16   Neutral     1  \n",
       "17   Neutral     0  \n",
       "18  Negative     0  \n",
       "19   Neutral     1  "
      ]
     },
     "execution_count": 204,
     "metadata": {},
     "output_type": "execute_result"
    }
   ],
   "source": [
    "df.head(20)"
   ]
  },
  {
   "cell_type": "code",
   "execution_count": 205,
   "metadata": {},
   "outputs": [
    {
     "data": {
      "text/plain": [
       "1    73\n",
       "0    27\n",
       "Name: Sent, dtype: int64"
      ]
     },
     "execution_count": 205,
     "metadata": {},
     "output_type": "execute_result"
    }
   ],
   "source": [
    "df['Sent'].value_counts()"
   ]
  },
  {
   "cell_type": "code",
   "execution_count": 206,
   "metadata": {},
   "outputs": [
    {
     "data": {
      "text/plain": [
       "Neutral     46\n",
       "Positive    40\n",
       "Negative    14\n",
       "Name: Sentiment, dtype: int64"
      ]
     },
     "execution_count": 206,
     "metadata": {},
     "output_type": "execute_result"
    }
   ],
   "source": [
    "df['Sentiment'].value_counts()"
   ]
  },
  {
   "cell_type": "code",
   "execution_count": null,
   "metadata": {},
   "outputs": [],
   "source": []
  }
 ],
 "metadata": {
  "kernelspec": {
   "display_name": "Python 3",
   "language": "python",
   "name": "python3"
  },
  "language_info": {
   "codemirror_mode": {
    "name": "ipython",
    "version": 3
   },
   "file_extension": ".py",
   "mimetype": "text/x-python",
   "name": "python",
   "nbconvert_exporter": "python",
   "pygments_lexer": "ipython3",
   "version": "3.7.4"
  }
 },
 "nbformat": 4,
 "nbformat_minor": 2
}
